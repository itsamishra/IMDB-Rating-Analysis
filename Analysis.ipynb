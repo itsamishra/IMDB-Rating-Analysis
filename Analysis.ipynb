{
 "cells": [
  {
   "cell_type": "code",
   "execution_count": 1,
   "metadata": {
    "collapsed": true
   },
   "outputs": [],
   "source": [
    "%matplotlib inline\n",
    "import sqlite3\n",
    "import pandas as pd\n",
    "import numpy as np\n",
    "import matplotlib.pyplot as plt\n",
    "import seaborn as sns"
   ]
  },
  {
   "cell_type": "code",
   "execution_count": 2,
   "metadata": {
    "collapsed": true
   },
   "outputs": [],
   "source": [
    "connection = sqlite3.connect(\"movies.db\")\n",
    "df = pd.read_sql_query(\"SELECT * FROM ratingUrl\", connection)\n",
    "connection.close()"
   ]
  },
  {
   "cell_type": "code",
   "execution_count": 3,
   "metadata": {
    "collapsed": true
   },
   "outputs": [],
   "source": [
    "# Renames true_budget to trueBudget\n",
    "df = df.drop(['trueScore','budget'], axis=1)\n",
    "df.rename(columns={\"true_Score\": \"trueScore\"}, inplace=True)\n",
    "\n",
    "# Adds rawScore column\n",
    "rawScore = [np.NaN]*1000\n",
    "df[\"rawScore\"]=rawScore"
   ]
  },
  {
   "cell_type": "code",
   "execution_count": 4,
   "metadata": {},
   "outputs": [
    {
     "name": "stderr",
     "output_type": "stream",
     "text": [
      "/Library/Frameworks/Python.framework/Versions/3.6/lib/python3.6/site-packages/ipykernel_launcher.py:7: FutureWarning: set_value is deprecated and will be removed in a future release. Please use .at[] or .iat[] accessors instead\n",
      "  import sys\n"
     ]
    }
   ],
   "source": [
    "# Calculates rawScore\n",
    "for i in df.iterrows():\n",
    "    #print(i[1])\n",
    "    totalVotes = i[1][\"One\"]+i[1][\"Two\"]+i[1][\"Three\"]+i[1][\"Four\"]+i[1][\"Five\"]+i[1][\"Six\"]+i[1][\"Seven\"]+i[1][\"Eight\"]+i[1][\"Nine\"]+i[1][\"Ten\"]\n",
    "    if totalVotes!=0:\n",
    "        rawScore = 1*(i[1][\"One\"]/totalVotes)+2*(i[1][\"Two\"]/totalVotes)+3*(i[1][\"Three\"]/totalVotes)+4*(i[1][\"Four\"]/totalVotes)+5*(i[1][\"Five\"]/totalVotes)+6*(i[1][\"Six\"]/totalVotes)+7*(i[1][\"Seven\"]/totalVotes)+8*(i[1][\"Eight\"]/totalVotes)+9*(i[1][\"Nine\"]/totalVotes)+10*(i[1][\"Ten\"]/totalVotes)\n",
    "        df.set_value(i[0],\"rawScore\", rawScore)\n",
    "\n",
    "#    print(rawScore)\n",
    "#    print(\"-------------------\")"
   ]
  },
  {
   "cell_type": "code",
   "execution_count": 5,
   "metadata": {
    "scrolled": false
   },
   "outputs": [
    {
     "data": {
      "text/html": [
       "<div>\n",
       "<style scoped>\n",
       "    .dataframe tbody tr th:only-of-type {\n",
       "        vertical-align: middle;\n",
       "    }\n",
       "\n",
       "    .dataframe tbody tr th {\n",
       "        vertical-align: top;\n",
       "    }\n",
       "\n",
       "    .dataframe thead th {\n",
       "        text-align: right;\n",
       "    }\n",
       "</style>\n",
       "<table border=\"1\" class=\"dataframe\">\n",
       "  <thead>\n",
       "    <tr style=\"text-align: right;\">\n",
       "      <th></th>\n",
       "      <th>Name</th>\n",
       "      <th>ratingUrl</th>\n",
       "      <th>One</th>\n",
       "      <th>Two</th>\n",
       "      <th>Three</th>\n",
       "      <th>Four</th>\n",
       "      <th>Five</th>\n",
       "      <th>Six</th>\n",
       "      <th>Seven</th>\n",
       "      <th>Eight</th>\n",
       "      <th>Nine</th>\n",
       "      <th>Ten</th>\n",
       "      <th>weighedScore</th>\n",
       "      <th>trueScore</th>\n",
       "      <th>rawScore</th>\n",
       "    </tr>\n",
       "  </thead>\n",
       "  <tbody>\n",
       "    <tr>\n",
       "      <th>0</th>\n",
       "      <td>Bright</td>\n",
       "      <td>http://www.imdb.com/title/tt5519340/ratings</td>\n",
       "      <td>1490</td>\n",
       "      <td>1070</td>\n",
       "      <td>1884</td>\n",
       "      <td>3023</td>\n",
       "      <td>6016</td>\n",
       "      <td>12017</td>\n",
       "      <td>18186</td>\n",
       "      <td>13603</td>\n",
       "      <td>5889</td>\n",
       "      <td>8952</td>\n",
       "      <td>6.5</td>\n",
       "      <td>6.665689</td>\n",
       "      <td>6.962471</td>\n",
       "    </tr>\n",
       "    <tr>\n",
       "      <th>1</th>\n",
       "      <td>Star Wars: Episode VIII - The Last Jedi</td>\n",
       "      <td>http://www.imdb.com/title/tt2527336/ratings</td>\n",
       "      <td>15770</td>\n",
       "      <td>5071</td>\n",
       "      <td>6266</td>\n",
       "      <td>7634</td>\n",
       "      <td>12898</td>\n",
       "      <td>23610</td>\n",
       "      <td>40925</td>\n",
       "      <td>54807</td>\n",
       "      <td>44344</td>\n",
       "      <td>44670</td>\n",
       "      <td>7.5</td>\n",
       "      <td>7.106200</td>\n",
       "      <td>7.234997</td>\n",
       "    </tr>\n",
       "    <tr>\n",
       "      <th>2</th>\n",
       "      <td>Jumanji: Welcome to the Jungle</td>\n",
       "      <td>http://www.imdb.com/title/tt2283362/ratings</td>\n",
       "      <td>497</td>\n",
       "      <td>165</td>\n",
       "      <td>228</td>\n",
       "      <td>434</td>\n",
       "      <td>1115</td>\n",
       "      <td>3537</td>\n",
       "      <td>8699</td>\n",
       "      <td>7865</td>\n",
       "      <td>3191</td>\n",
       "      <td>3844</td>\n",
       "      <td>7.3</td>\n",
       "      <td>7.215622</td>\n",
       "      <td>7.473068</td>\n",
       "    </tr>\n",
       "    <tr>\n",
       "      <th>3</th>\n",
       "      <td>The Greatest Showman</td>\n",
       "      <td>http://www.imdb.com/title/tt1485796/ratings</td>\n",
       "      <td>267</td>\n",
       "      <td>95</td>\n",
       "      <td>163</td>\n",
       "      <td>271</td>\n",
       "      <td>555</td>\n",
       "      <td>1269</td>\n",
       "      <td>2705</td>\n",
       "      <td>4592</td>\n",
       "      <td>4430</td>\n",
       "      <td>7974</td>\n",
       "      <td>8.0</td>\n",
       "      <td>7.648651</td>\n",
       "      <td>8.409121</td>\n",
       "    </tr>\n",
       "    <tr>\n",
       "      <th>4</th>\n",
       "      <td>Justice League</td>\n",
       "      <td>http://www.imdb.com/title/tt0974015/ratings</td>\n",
       "      <td>4311</td>\n",
       "      <td>1600</td>\n",
       "      <td>2799</td>\n",
       "      <td>4977</td>\n",
       "      <td>10834</td>\n",
       "      <td>21874</td>\n",
       "      <td>36310</td>\n",
       "      <td>31626</td>\n",
       "      <td>16045</td>\n",
       "      <td>31683</td>\n",
       "      <td>7.0</td>\n",
       "      <td>6.889319</td>\n",
       "      <td>7.340802</td>\n",
       "    </tr>\n",
       "  </tbody>\n",
       "</table>\n",
       "</div>"
      ],
      "text/plain": [
       "                                      Name  \\\n",
       "0                                   Bright   \n",
       "1  Star Wars: Episode VIII - The Last Jedi   \n",
       "2           Jumanji: Welcome to the Jungle   \n",
       "3                     The Greatest Showman   \n",
       "4                           Justice League   \n",
       "\n",
       "                                     ratingUrl    One   Two  Three  Four  \\\n",
       "0  http://www.imdb.com/title/tt5519340/ratings   1490  1070   1884  3023   \n",
       "1  http://www.imdb.com/title/tt2527336/ratings  15770  5071   6266  7634   \n",
       "2  http://www.imdb.com/title/tt2283362/ratings    497   165    228   434   \n",
       "3  http://www.imdb.com/title/tt1485796/ratings    267    95    163   271   \n",
       "4  http://www.imdb.com/title/tt0974015/ratings   4311  1600   2799  4977   \n",
       "\n",
       "    Five    Six  Seven  Eight   Nine    Ten weighedScore  trueScore  rawScore  \n",
       "0   6016  12017  18186  13603   5889   8952          6.5   6.665689  6.962471  \n",
       "1  12898  23610  40925  54807  44344  44670          7.5   7.106200  7.234997  \n",
       "2   1115   3537   8699   7865   3191   3844          7.3   7.215622  7.473068  \n",
       "3    555   1269   2705   4592   4430   7974          8.0   7.648651  8.409121  \n",
       "4  10834  21874  36310  31626  16045  31683          7.0   6.889319  7.340802  "
      ]
     },
     "execution_count": 5,
     "metadata": {},
     "output_type": "execute_result"
    }
   ],
   "source": [
    "df.head()"
   ]
  },
  {
   "cell_type": "code",
   "execution_count": 6,
   "metadata": {},
   "outputs": [
    {
     "name": "stdout",
     "output_type": "stream",
     "text": [
      "1000\n",
      "577\n"
     ]
    }
   ],
   "source": [
    "# Goes through dataframe and removes movies which have less than 100 votes\n",
    "print(len(df))\n",
    "\n",
    "removalIndex = []\n",
    "for i in df.iterrows():\n",
    "    totalVotes = i[1][\"One\"]+i[1][\"Two\"]+i[1][\"Three\"]+i[1][\"Four\"]+i[1][\"Five\"]+i[1][\"Six\"]+i[1][\"Seven\"]+i[1][\"Eight\"]+i[1][\"Nine\"]+i[1][\"Ten\"]\n",
    "    if totalVotes<1000:\n",
    "        removalIndex.append(i[0])\n",
    "\n",
    "# Iterates over list in reverse order and removes rows\n",
    "for index in reversed(removalIndex):\n",
    "    df = df.drop(df.index[index])\n",
    "print(len(df))"
   ]
  },
  {
   "cell_type": "code",
   "execution_count": 7,
   "metadata": {
    "collapsed": true
   },
   "outputs": [],
   "source": [
    "for i in df.iterrows():\n",
    "    totalVotes = i[1][\"One\"]+i[1][\"Two\"]+i[1][\"Three\"]+i[1][\"Four\"]+i[1][\"Five\"]+i[1][\"Six\"]+i[1][\"Seven\"]+i[1][\"Eight\"]+i[1][\"Nine\"]+i[1][\"Ten\"]\n",
    "    if totalVotes<100:\n",
    "        print(totalVotes)"
   ]
  },
  {
   "cell_type": "code",
   "execution_count": 8,
   "metadata": {
    "scrolled": true
   },
   "outputs": [
    {
     "name": "stdout",
     "output_type": "stream",
     "text": [
      "raw-true:\n",
      "count    577.000000\n",
      "mean       0.189142\n",
      "std        0.406469\n",
      "min       -3.814745\n",
      "25%        0.022189\n",
      "50%        0.167693\n",
      "75%        0.364111\n",
      "max        2.089481\n",
      "dtype: float64\n",
      "\n",
      "raw-weighed:\n",
      "count    577.000000\n",
      "mean       0.202393\n",
      "std        0.282458\n",
      "min       -2.835604\n",
      "25%        0.064031\n",
      "50%        0.180351\n",
      "75%        0.301873\n",
      "max        1.498901\n",
      "dtype: float64\n",
      "\n",
      "true-weighed:\n",
      "count    577.000000\n",
      "mean       0.013251\n",
      "std        0.378711\n",
      "min       -1.627778\n",
      "25%       -0.161126\n",
      "50%        0.005622\n",
      "75%        0.148058\n",
      "max        2.419262\n",
      "dtype: float64\n",
      "\n"
     ]
    }
   ],
   "source": [
    "# TODO compare & analyze weighed/true/raw scores\n",
    "rawTrueDiff = df[\"rawScore\"]-df[\"trueScore\"]\n",
    "df[\"weighedScore\"]=df[\"weighedScore\"].astype(\"float64\")\n",
    "rawWeighedDiff = df[\"rawScore\"]-df[\"weighedScore\"]\n",
    "trueWeighedDiff = df[\"trueScore\"]-df[\"weighedScore\"]\n",
    "\n",
    "print(\"raw-true:\\n\" + str(rawTrueDiff.describe()) + \"\\n\")\n",
    "print(\"raw-weighed:\\n\" + str(rawWeighedDiff.describe()) + \"\\n\")\n",
    "print(\"true-weighed:\\n\" + str(trueWeighedDiff.describe()) + \"\\n\")"
   ]
  },
  {
   "cell_type": "code",
   "execution_count": 9,
   "metadata": {},
   "outputs": [
    {
     "data": {
      "text/plain": [
       "(array([   1.,    0.,    0.,    1.,    2.,    8.,  310.,  222.,   28.,    5.]),\n",
       " array([-2.83560372, -2.4021532 , -1.96870269, -1.53525218, -1.10180167,\n",
       "        -0.66835116, -0.23490065,  0.19854987,  0.63200038,  1.06545089,\n",
       "         1.4989014 ]),\n",
       " <a list of 10 Patch objects>)"
      ]
     },
     "execution_count": 9,
     "metadata": {},
     "output_type": "execute_result"
    },
    {
     "data": {
      "image/png": "[encoded data removed]",
      "text/plain": [
       "<matplotlib.figure.Figure at 0x1135780b8>"
      ]
     },
     "metadata": {},
     "output_type": "display_data"
    }
   ],
   "source": [
    "#plt.plot(rawTrueDiff)\n",
    "plt.hist(rawWeighedDiff)"
   ]
  },
  {
   "cell_type": "code",
   "execution_count": 10,
   "metadata": {
    "scrolled": true
   },
   "outputs": [
    {
     "data": {
      "text/plain": [
       "<matplotlib.axes._subplots.AxesSubplot at 0x11368cd30>"
      ]
     },
     "execution_count": 10,
     "metadata": {},
     "output_type": "execute_result"
    },
    {
     "data": {
      "image/png": "[encoded data removed]",
      "text/plain": [
       "<matplotlib.figure.Figure at 0x1136aa748>"
      ]
     },
     "metadata": {},
     "output_type": "display_data"
    }
   ],
   "source": [
    "sns.distplot(trueWeighedDiff)"
   ]
  },
  {
   "cell_type": "code",
   "execution_count": null,
   "metadata": {
    "collapsed": true
   },
   "outputs": [],
   "source": []
  }
 ],
 "metadata": {
  "kernelspec": {
   "display_name": "Python 3",
   "language": "python",
   "name": "python3"
  },
  "language_info": {
   "codemirror_mode": {
    "name": "ipython",
    "version": 3
   },
   "file_extension": ".py",
   "mimetype": "text/x-python",
   "name": "python",
   "nbconvert_exporter": "python",
   "pygments_lexer": "ipython3",
   "version": "3.6.2"
  }
 },
 "nbformat": 4,
 "nbformat_minor": 2
}
