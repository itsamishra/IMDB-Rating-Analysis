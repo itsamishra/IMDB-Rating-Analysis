{
 "cells": [
  {
   "cell_type": "code",
   "execution_count": 1,
   "metadata": {
    "collapsed": true
   },
   "outputs": [],
   "source": [
    "import sqlite3\n",
    "import pandas as pd"
   ]
  },
  {
   "cell_type": "code",
   "execution_count": 2,
   "metadata": {
    "collapsed": true
   },
   "outputs": [],
   "source": [
    "connection = sqlite3.connect(\"movies.db\")\n",
    "df = pd.read_sql_query(\"SELECT * FROM ratingUrl\", connection)\n",
    "connection.close()"
   ]
  },
  {
   "cell_type": "code",
   "execution_count": 3,
   "metadata": {},
   "outputs": [
    {
     "data": {
      "text/html": [
       "<div>\n",
       "<style scoped>\n",
       "    .dataframe tbody tr th:only-of-type {\n",
       "        vertical-align: middle;\n",
       "    }\n",
       "\n",
       "    .dataframe tbody tr th {\n",
       "        vertical-align: top;\n",
       "    }\n",
       "\n",
       "    .dataframe thead th {\n",
       "        text-align: right;\n",
       "    }\n",
       "</style>\n",
       "<table border=\"1\" class=\"dataframe\">\n",
       "  <thead>\n",
       "    <tr style=\"text-align: right;\">\n",
       "      <th></th>\n",
       "      <th>Name</th>\n",
       "      <th>ratingUrl</th>\n",
       "      <th>One</th>\n",
       "      <th>Two</th>\n",
       "      <th>Three</th>\n",
       "      <th>Four</th>\n",
       "      <th>Five</th>\n",
       "      <th>Six</th>\n",
       "      <th>Seven</th>\n",
       "      <th>Eight</th>\n",
       "      <th>Nine</th>\n",
       "      <th>Ten</th>\n",
       "    </tr>\n",
       "  </thead>\n",
       "  <tbody>\n",
       "    <tr>\n",
       "      <th>0</th>\n",
       "      <td>Bright</td>\n",
       "      <td>http://www.imdb.com/title/tt5519340/ratings</td>\n",
       "      <td>1490</td>\n",
       "      <td>1070</td>\n",
       "      <td>1884</td>\n",
       "      <td>3023</td>\n",
       "      <td>6016</td>\n",
       "      <td>12017</td>\n",
       "      <td>18186</td>\n",
       "      <td>13603</td>\n",
       "      <td>5889</td>\n",
       "      <td>8952</td>\n",
       "    </tr>\n",
       "    <tr>\n",
       "      <th>1</th>\n",
       "      <td>Star Wars: Episode VIII - The Last Jedi</td>\n",
       "      <td>http://www.imdb.com/title/tt2527336/ratings</td>\n",
       "      <td>15770</td>\n",
       "      <td>5071</td>\n",
       "      <td>6266</td>\n",
       "      <td>7634</td>\n",
       "      <td>12898</td>\n",
       "      <td>23610</td>\n",
       "      <td>40925</td>\n",
       "      <td>54807</td>\n",
       "      <td>44344</td>\n",
       "      <td>44670</td>\n",
       "    </tr>\n",
       "    <tr>\n",
       "      <th>2</th>\n",
       "      <td>Jumanji: Welcome to the Jungle</td>\n",
       "      <td>http://www.imdb.com/title/tt2283362/ratings</td>\n",
       "      <td>497</td>\n",
       "      <td>165</td>\n",
       "      <td>228</td>\n",
       "      <td>434</td>\n",
       "      <td>1115</td>\n",
       "      <td>3537</td>\n",
       "      <td>8699</td>\n",
       "      <td>7865</td>\n",
       "      <td>3191</td>\n",
       "      <td>3844</td>\n",
       "    </tr>\n",
       "    <tr>\n",
       "      <th>3</th>\n",
       "      <td>The Greatest Showman</td>\n",
       "      <td>http://www.imdb.com/title/tt1485796/ratings</td>\n",
       "      <td>267</td>\n",
       "      <td>95</td>\n",
       "      <td>163</td>\n",
       "      <td>271</td>\n",
       "      <td>555</td>\n",
       "      <td>1269</td>\n",
       "      <td>2705</td>\n",
       "      <td>4592</td>\n",
       "      <td>4430</td>\n",
       "      <td>7974</td>\n",
       "    </tr>\n",
       "    <tr>\n",
       "      <th>4</th>\n",
       "      <td>Justice League</td>\n",
       "      <td>http://www.imdb.com/title/tt0974015/ratings</td>\n",
       "      <td>4311</td>\n",
       "      <td>1600</td>\n",
       "      <td>2799</td>\n",
       "      <td>4977</td>\n",
       "      <td>10834</td>\n",
       "      <td>21874</td>\n",
       "      <td>36310</td>\n",
       "      <td>31626</td>\n",
       "      <td>16045</td>\n",
       "      <td>31683</td>\n",
       "    </tr>\n",
       "  </tbody>\n",
       "</table>\n",
       "</div>"
      ],
      "text/plain": [
       "                                      Name  \\\n",
       "0                                   Bright   \n",
       "1  Star Wars: Episode VIII - The Last Jedi   \n",
       "2           Jumanji: Welcome to the Jungle   \n",
       "3                     The Greatest Showman   \n",
       "4                           Justice League   \n",
       "\n",
       "                                     ratingUrl    One   Two  Three  Four  \\\n",
       "0  http://www.imdb.com/title/tt5519340/ratings   1490  1070   1884  3023   \n",
       "1  http://www.imdb.com/title/tt2527336/ratings  15770  5071   6266  7634   \n",
       "2  http://www.imdb.com/title/tt2283362/ratings    497   165    228   434   \n",
       "3  http://www.imdb.com/title/tt1485796/ratings    267    95    163   271   \n",
       "4  http://www.imdb.com/title/tt0974015/ratings   4311  1600   2799  4977   \n",
       "\n",
       "    Five    Six  Seven  Eight   Nine    Ten  \n",
       "0   6016  12017  18186  13603   5889   8952  \n",
       "1  12898  23610  40925  54807  44344  44670  \n",
       "2   1115   3537   8699   7865   3191   3844  \n",
       "3    555   1269   2705   4592   4430   7974  \n",
       "4  10834  21874  36310  31626  16045  31683  "
      ]
     },
     "execution_count": 3,
     "metadata": {},
     "output_type": "execute_result"
    }
   ],
   "source": [
    "df.head()"
   ]
  },
  {
   "cell_type": "code",
   "execution_count": null,
   "metadata": {
    "collapsed": true
   },
   "outputs": [],
   "source": []
  }
 ],
 "metadata": {
  "kernelspec": {
   "display_name": "Python 3",
   "language": "python",
   "name": "python3"
  },
  "language_info": {
   "codemirror_mode": {
    "name": "ipython",
    "version": 3
   },
   "file_extension": ".py",
   "mimetype": "text/x-python",
   "name": "python",
   "nbconvert_exporter": "python",
   "pygments_lexer": "ipython3",
   "version": "3.6.2"
  }
 },
 "nbformat": 4,
 "nbformat_minor": 2
}
